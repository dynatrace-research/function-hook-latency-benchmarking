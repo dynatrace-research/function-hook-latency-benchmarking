{
 "cells": [
  {
   "cell_type": "code",
   "execution_count": null,
   "metadata": {},
   "outputs": [],
   "source": [
    "from loader import load_dataframe, filter_dataframe\n",
    "from plot import plot_boxplots, plot_lagplots\n",
    "from synthetic import generate_dataframe\n",
    "from statistic import test_dataframe\n",
    "\n",
    "%matplotlib inline"
   ]
  },
  {
   "cell_type": "code",
   "execution_count": null,
   "metadata": {},
   "outputs": [],
   "source": [
    "CONDITION_NAMES = {\n",
    "    \"local\": \"in Docker\",\n",
    "    \"kind\": \"in Kind\",\n",
    "    \"same-pod\": \"in EKS pod\",\n",
    "    \"same-cluster\": \"across EKS nodes\",\n",
    "}\n",
    "\n",
    "HOOK_NAMES = {\n",
    "    True: \"App with function hook\",\n",
    "    False: \"Unmodified app\",\n",
    "}\n",
    "\n",
    "# fmt: off\n",
    "FILE_MAPPING = {\n",
    "    (\"local\", True): \"docker-with-benchmark_15-35-50_1691768150270_8081.csv\",\n",
    "    (\"local\", False): \"docker-without-hook-benchmark_15-30-06_1691767806057.csv\",\n",
    "    (\"kind\", True): \"kind-with-hook-benchmark_16-30-45_1691771445417.csv\",\n",
    "    (\"kind\", False): \"kind-without-hook-benchmark_16-25-22_1691771122967.csv\",\n",
    "    (\"same-pod\", True): \"aws-pod-with-hook-benchmark_11-31-08_1691753468729.csv\",\n",
    "    (\"same-pod\", False): \"aws-pod-without-hook-benchmark_09-24-46_1691745886638.csv\",\n",
    "    (\"same-cluster\", True): \"aws-nodes-with-hook-benchmark_11-46-54_1691754414125.csv\",\n",
    "    (\"same-cluster\", False): \"aws-nodes-without-hook-benchmark_11-40-50_1691754050578.csv\",\n",
    "}\n",
    "# fmt: on"
   ]
  },
  {
   "cell_type": "code",
   "execution_count": null,
   "metadata": {},
   "outputs": [],
   "source": [
    "# df = generate_dataframe(ncycles=50_000)\n",
    "df = load_dataframe(\"../data\", FILE_MAPPING)\n",
    "dff = filter_dataframe(df, start=4_000)\n",
    "\n",
    "test_dataframe(dff, condition_names=CONDITION_NAMES)\n",
    "\n",
    "plot_boxplots(\n",
    "    dff,\n",
    "    condition_names=CONDITION_NAMES,\n",
    "    hook_names=HOOK_NAMES,\n",
    "    filename=\"../out/boxplots.pdf\",\n",
    ")\n",
    "\n",
    "plot_lagplots(\n",
    "    df,\n",
    "    conditions=[[\"kind\", \"local\"], [\"same-cluster\", \"same-pod\"]],\n",
    "    condition_names=CONDITION_NAMES,\n",
    "    hook_names=HOOK_NAMES,\n",
    "    cutoff=10_000,\n",
    "    filename=\"../out/lagplots.pdf\",\n",
    ")"
   ]
  }
 ],
 "metadata": {
  "kernelspec": {
   "display_name": "Python 3",
   "language": "python",
   "name": "python3"
  },
  "language_info": {
   "codemirror_mode": {
    "name": "ipython",
    "version": 3
   },
   "file_extension": ".py",
   "mimetype": "text/x-python",
   "name": "python",
   "nbconvert_exporter": "python",
   "pygments_lexer": "ipython3",
   "version": "3.11.1"
  },
  "orig_nbformat": 4
 },
 "nbformat": 4,
 "nbformat_minor": 2
}
